{
  "nbformat": 4,
  "nbformat_minor": 0,
  "metadata": {
    "kernelspec": {
      "display_name": "Python 3",
      "language": "python",
      "name": "python3"
    },
    "language_info": {
      "codemirror_mode": {
        "name": "ipython",
        "version": 3
      },
      "file_extension": ".py",
      "mimetype": "text/x-python",
      "name": "python",
      "nbconvert_exporter": "python",
      "pygments_lexer": "ipython3",
      "version": "3.7.6"
    },
    "colab": {
      "name": "LIFT(1).ipynb",
      "provenance": [],
      "collapsed_sections": []
    }
  },
  "cells": [
    {
      "cell_type": "code",
      "metadata": {
        "id": "Smkp5QBaL1LH",
        "colab_type": "code",
        "colab": {}
      },
      "source": [
        "import scipy.io\n",
        "import pandas as pd\n",
        "import numpy as np\n",
        "from sklearn.cluster import MiniBatchKMeans\n",
        "from sklearn.linear_model import SGDClassifier\n",
        "from sklearn.svm import LinearSVC\n",
        "from sklearn.preprocessing import StandardScaler\n",
        "from sklearn.metrics import f1_score,hamming_loss,label_ranking_average_precision_score,zero_one_loss,auc,coverage_error"
      ],
      "execution_count": 0,
      "outputs": []
    },
    {
      "cell_type": "code",
      "metadata": {
        "id": "1G3TEnj9L1LQ",
        "colab_type": "code",
        "colab": {}
      },
      "source": [
        "data=scipy.io.loadmat('emotions.mat')"
      ],
      "execution_count": 0,
      "outputs": []
    },
    {
      "cell_type": "code",
      "metadata": {
        "id": "RPalLIVlL1LX",
        "colab_type": "code",
        "outputId": "9a0e1ed8-d60b-4335-e0a5-cdc3bb61c59e",
        "colab": {
          "base_uri": "https://localhost:8080/",
          "height": 219
        }
      },
      "source": [
        "data"
      ],
      "execution_count": 0,
      "outputs": [
        {
          "output_type": "execute_result",
          "data": {
            "text/plain": [
              "{'X': <391x72 sparse matrix of type '<class 'numpy.float64'>'\n",
              " \twith 27995 stored elements in Compressed Sparse Column format>,\n",
              " 'Xt': <202x72 sparse matrix of type '<class 'numpy.float64'>'\n",
              " \twith 14487 stored elements in Compressed Sparse Column format>,\n",
              " 'Y': <391x6 sparse matrix of type '<class 'numpy.float64'>'\n",
              " \twith 709 stored elements in Compressed Sparse Column format>,\n",
              " 'Yt': <202x6 sparse matrix of type '<class 'numpy.float64'>'\n",
              " \twith 399 stored elements in Compressed Sparse Column format>,\n",
              " '__globals__': [],\n",
              " '__header__': b'MATLAB 5.0 MAT-file, Platform: PCWIN64, Created on: Wed May 04 19:29:54 2016',\n",
              " '__version__': '1.0'}"
            ]
          },
          "metadata": {
            "tags": []
          },
          "execution_count": 4
        }
      ]
    },
    {
      "cell_type": "code",
      "metadata": {
        "id": "8SWwokD_L1Le",
        "colab_type": "code",
        "colab": {}
      },
      "source": [
        "X=pd.DataFrame(data['X'].toarray())\n",
        "Y=pd.DataFrame(data['Y'].toarray())\n",
        "Xt=pd.DataFrame(data['Xt'].toarray())\n",
        "Yt=pd.DataFrame(data['Yt'].toarray())"
      ],
      "execution_count": 0,
      "outputs": []
    },
    {
      "cell_type": "markdown",
      "metadata": {
        "id": "asyMAPoKL1Lj",
        "colab_type": "text"
      },
      "source": [
        "# LIFT stage-1"
      ]
    },
    {
      "cell_type": "code",
      "metadata": {
        "id": "ypsNfrVEL1Ll",
        "colab_type": "code",
        "colab": {}
      },
      "source": [
        "def batchkmeans_cluster(D,clust_num):\n",
        "    batch_kmeans = MiniBatchKMeans(n_clusters=clust_num,max_iter=100,batch_size=D.shape[0]*10)\n",
        "    batch_kmeans.fit(D)\n",
        "    centroids=batch_kmeans.cluster_centers_\n",
        "    return centroids\n",
        "\n",
        "#calculates distances of each instance from a centroid\n",
        "def centroid_distance(data,centroid):\n",
        "    dist=[]\n",
        "    for instance in range(len(data)):\n",
        "        dist.append(np.linalg.norm(data.iloc[instance,:].values-centroid))\n",
        "    return dist\n",
        "\n",
        "#calculates distances of each instance from all centroid\n",
        "def dist_of_rows_from_centroids(X,centroids):\n",
        "    distance_dataframe=pd.DataFrame()\n",
        "    i=0\n",
        "    for centre in centroids:\n",
        "        distance_dataframe[i]=centroid_distance(X,centre) #this will loop for all centroids\n",
        "        i=i+1\n",
        "    return distance_dataframe\n",
        "\n",
        "def SGD_svm(X,Y):\n",
        "    clf=SGDClassifier(n_jobs=-1)\n",
        "    clf.fit((X),Y)\n",
        "    return clf"
      ],
      "execution_count": 0,
      "outputs": []
    },
    {
      "cell_type": "code",
      "metadata": {
        "id": "z9_whmPGL1Lp",
        "colab_type": "code",
        "colab": {}
      },
      "source": [
        "def LIFT(X,Y,Xt,Yt,ratio):\n",
        "    #step-1\n",
        "    classifiers_for_label={} #this will store all classifier functions\n",
        "    centroids_per_label={}\n",
        "    for label in range(Y.shape[1]):\n",
        "        positive_instances=X[Y.iloc[:,label]==1]\n",
        "        negative_instances=X[Y.iloc[:,label]!=1]\n",
        "        clust_num=int(ratio*(min(len(positive_instances),len(negative_instances)))) #calculates the number of clusters\n",
        "        centroids=[] #will stores all the centroids\n",
        "        centroids.extend(batchkmeans_cluster(positive_instances,clust_num))\n",
        "        centroids.extend(batchkmeans_cluster(negative_instances,clust_num))\n",
        "        centroids_per_label[str(label)]=centroids\n",
        "        distance_dataframe=dist_of_rows_from_centroids(X,centroids)#it saves distance from instances to each centroids\n",
        "        #step-2\n",
        "        classifiers_for_label[str(label)]=SGD_svm(distance_dataframe,Y.iloc[:,label]) #classifier is trained label wise from the distance matrix and label\n",
        "    #step-3\n",
        "    results =pd.DataFrame()\n",
        "    for label_2b_pred in range(Y.shape[1]):\n",
        "        Xt_dist_for_label=dist_of_rows_from_centroids(Xt,centroids_per_label[str(label_2b_pred)])\n",
        "        results[str(label_2b_pred)]=classifiers_for_label[str(label_2b_pred)].predict(Xt_dist_for_label) #this transforms test set to the distance form upon which all classifiers will act to give labelset\n",
        "    print('Hamming loss : {}'.format(hamming_loss(Yt.values,results.values)))\n",
        "    print('zero_one_loss : {}'.format(zero_one_loss(Yt.values,results.values)))\n",
        "    print('coverage_error : {}'.format(coverage_error(Yt.values,results.values)))\n",
        "    print('label_ranking_average_precision_score : {}'.format(label_ranking_average_precision_score(Yt.values,results.values)))"
      ],
      "execution_count": 0,
      "outputs": []
    },
    {
      "cell_type": "code",
      "metadata": {
        "id": "YHzsssFxL1Lu",
        "colab_type": "code",
        "outputId": "a08ea87b-a5b2-458e-9fd2-c4a7d9e0105a",
        "colab": {
          "base_uri": "https://localhost:8080/",
          "height": 90
        }
      },
      "source": [
        "LIFT(X,Y,Xt,Yt,0.1)"
      ],
      "execution_count": 0,
      "outputs": [
        {
          "output_type": "stream",
          "text": [
            "Hamming loss : 0.3316831683168317\n",
            "zero_one_loss : 0.8613861386138614\n",
            "coverage_error : 4.891089108910891\n",
            "label_ranking_average_precision_score : 0.5134763476347634\n"
          ],
          "name": "stdout"
        }
      ]
    }
  ]
}